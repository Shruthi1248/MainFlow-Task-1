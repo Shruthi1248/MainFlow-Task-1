{
 "cells": [
  {
   "cell_type": "markdown",
   "id": "fa97da29-d9ca-4a8c-bf62-c9a1a5b657be",
   "metadata": {},
   "source": [
    "**LIST**"
   ]
  },
  {
   "cell_type": "code",
   "execution_count": 1,
   "id": "7408e4c9-f2d7-43ee-a1fb-b5655906c7d8",
   "metadata": {},
   "outputs": [
    {
     "name": "stdout",
     "output_type": "stream",
     "text": [
      "List of Countries: ['India', 'USA', 'Canada', 'Germany', 'Australia', 'Italy']\n",
      "After Adding Brazil: ['India', 'USA', 'Canada', 'Germany', 'Australia', 'Italy', 'Brazil']\n",
      "After Removing Canada: ['India', 'USA', 'Germany', 'Australia', 'Italy', 'Brazil']\n",
      "After Modifying: ['India', 'USA', 'Germany', 'Singapore', 'Italy', 'Brazil']\n",
      "After Extending: ['India', 'USA', 'Germany', 'Singapore', 'Italy', 'Brazil', 'Thailand', 'Bangladesh']\n",
      "After Removing an element by Index: ['India', 'Germany', 'Singapore', 'Italy', 'Brazil', 'Thailand', 'Bangladesh']\n",
      "Sorted in Ascending Order: ['Bangladesh', 'Brazil', 'Germany', 'India', 'Italy', 'Singapore', 'Thailand']\n"
     ]
    }
   ],
   "source": [
    "#creating the list\n",
    "countries = [\"India\",\"USA\", \"Canada\", \"Germany\", \"Australia\",\"Italy\"]\n",
    "print(\"List of Countries:\", countries)\n",
    "\n",
    "#adding an element to the end of the list\n",
    "countries.append(\"Brazil\")\n",
    "print(\"After Adding Brazil:\", countries)\n",
    "\n",
    "#removing an element by a value in the list\n",
    "countries.remove(\"Canada\")\n",
    "print(\"After Removing Canada:\",countries)\n",
    "\n",
    "#modifying an element in the list\n",
    "countries[3] = \"Singapore\"\n",
    "print(\"After Modifying:\", countries)\n",
    "\n",
    "#adding multiple elements to the list\n",
    "countries.extend([\"Thailand\",\"Bangladesh\"])\n",
    "print(\"After Extending:\",countries)\n",
    "\n",
    "#removing an element by index in the list\n",
    "countries.pop(1)\n",
    "print(\"After Removing an element by Index:\", countries)\n",
    "\n",
    "#sorting the list in ascending order\n",
    "countries.sort()\n",
    "print(\"Sorted in Ascending Order:\",countries)"
   ]
  },
  {
   "cell_type": "markdown",
   "id": "9ecebf67-8e3d-4994-8528-d7907b7dc790",
   "metadata": {},
   "source": [
    "**SET**"
   ]
  },
  {
   "cell_type": "code",
   "execution_count": 25,
   "id": "2abd4c6b-3ef0-47c1-b14e-ce8b6e88fc8a",
   "metadata": {},
   "outputs": [
    {
     "name": "stdout",
     "output_type": "stream",
     "text": [
      "Set of Fruits: {'Orange', 'Mango', 'Cherry', 'Apple', 'Banana'}\n",
      "After Adding Grape: {'Orange', 'Mango', 'Cherry', 'Apple', 'Banana', 'Grape'}\n",
      "After Adding multiple elements: {'Orange', 'Mango', 'Fig', 'Cherry', 'Apple', 'Banana', 'Papaya', 'Grape'}\n",
      "After Removing Apple: {'Orange', 'Mango', 'Fig', 'Cherry', 'Banana', 'Papaya', 'Grape'}\n",
      "After Discarding Banana: {'Orange', 'Mango', 'Fig', 'Cherry', 'Papaya', 'Grape'}\n"
     ]
    }
   ],
   "source": [
    "#creating the set\n",
    "fruits = {\"Mango\", \"Apple\", \"Orange\", \"Banana\", \"Cherry\"}\n",
    "print(\"Set of Fruits:\", fruits)\n",
    "\n",
    "#adding an element to the set\n",
    "fruits.add(\"Grape\")\n",
    "print(\"After Adding Grape:\",fruits)\n",
    "\n",
    "#adding multiple elements to the set\n",
    "fruits.update({\"Fig\",\"Papaya\"})\n",
    "print(\"After Adding multiple elements:\", fruits)\n",
    "\n",
    "#removing an element from the set\n",
    "fruits.remove(\"Apple\")\n",
    "print(\"After Removing Apple:\", fruits)\n",
    "\n",
    "#discarding an element from the set\n",
    "fruits.discard(\"Banana\")\n",
    "print(\"After Discarding Banana:\",fruits)"
   ]
  },
  {
   "cell_type": "markdown",
   "id": "aacbd95c-5b40-4892-bd0e-6652b2d5fc76",
   "metadata": {},
   "source": [
    "**DICTIONARY**"
   ]
  },
  {
   "cell_type": "code",
   "execution_count": 29,
   "id": "2078fc4b-a2ca-4508-a94d-d469de1eac90",
   "metadata": {},
   "outputs": [
    {
     "name": "stdout",
     "output_type": "stream",
     "text": [
      "Details: {'Name': 'Elsa', 'Age': 30, 'City': 'Chennai'}\n",
      "After Adding in Dictionary: {'Name': 'Elsa', 'Age': 30, 'City': 'Chennai', 'Gender': 'Female'}\n",
      "After Deleting in Dictionary: {'Name': 'Elsa', 'City': 'Chennai', 'Gender': 'Female'}\n",
      "Name: {'Name': 'Elsa', 'City': 'Chennai', 'Gender': 'Female'}\n",
      "After Modifying in Dictionary: {'Name': 'Elsa', 'City': 'Chennai', 'Gender': 'Female', 'Country': 'India'}\n",
      "Keys in details_dict: {'Name': 'Elsa', 'City': 'Chennai', 'Gender': 'Female', 'Country': 'India'}\n",
      "Values in details_dict: {'Name': 'Elsa', 'City': 'Chennai', 'Gender': 'Female', 'Country': 'India'}\n"
     ]
    }
   ],
   "source": [
    "#creating the dictionary\n",
    "details_dict = {\"Name\" : \"Elsa\" , \"Age\" : 30, \"City\" : \"Chennai\"}\n",
    "print(\"Details:\", details_dict)\n",
    "\n",
    "#adding a key value pair in dictionary\n",
    "details_dict[\"Gender\"] = \"Female\"\n",
    "print(\"After Adding in Dictionary:\", details_dict)\n",
    "\n",
    "#deleting a key value pair in dictionary\n",
    "del details_dict[\"Age\"]\n",
    "print(\"After Deleting in Dictionary:\", details_dict)\n",
    "\n",
    "#accessing a value by key\n",
    "details_dict.get(\"Name\")\n",
    "print(\"Name:\", details_dict)\n",
    "\n",
    "#modifying a key value pair in dictionary\n",
    "details_dict[\"Country\"] = \"India\"\n",
    "print(\"After Modifying in Dictionary:\", details_dict)\n",
    "\n",
    "#getting all keys in dictionary\n",
    "details_dict.keys()\n",
    "print(\"Keys in details_dict:\", details_dict)\n",
    "\n",
    "#getting all values in dictionary\n",
    "details_dict.values()\n",
    "print(\"Values in details_dict:\", details_dict)"
   ]
  },
  {
   "cell_type": "code",
   "execution_count": null,
   "id": "cc985e06-7ab1-4dd1-b77f-82d99b556246",
   "metadata": {},
   "outputs": [],
   "source": []
  }
 ],
 "metadata": {
  "kernelspec": {
   "display_name": "Python 3 (ipykernel)",
   "language": "python",
   "name": "python3"
  },
  "language_info": {
   "codemirror_mode": {
    "name": "ipython",
    "version": 3
   },
   "file_extension": ".py",
   "mimetype": "text/x-python",
   "name": "python",
   "nbconvert_exporter": "python",
   "pygments_lexer": "ipython3",
   "version": "3.12.1"
  }
 },
 "nbformat": 4,
 "nbformat_minor": 5
}
